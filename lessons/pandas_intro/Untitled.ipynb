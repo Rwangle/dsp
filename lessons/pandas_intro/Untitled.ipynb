{
 "cells": [
  {
   "cell_type": "code",
   "execution_count": 1,
   "metadata": {},
   "outputs": [],
   "source": [
    "# Q1: import numpy and pandas\n",
    "import numpy as np\n",
    "import pandas as pd\n",
    "\n",
    "\n",
    "# Q2: Set options in pandas so it displays 30 `max_rows` \n",
    "#                                 no limit on `max_columns`\n",
    "#                                 precision is 3\n",
    "\n",
    "pd.set_option('display.max_columns', None)\n",
    "pd.set_option('display.max_rows', 30)\n",
    "pd.set_option('display.precision', 3)\n",
    "\n",
    "# Q3: assign the versions of pandas and numpy to variables below\n",
    "pd_version = pd.__version__\n",
    "np_version = np.__version__\n",
    "\n",
    "\n",
    "# Q4: Read in the csv file \"olive.csv\" with pandas. \n",
    "#     The filename is stored in the variable `olive_path`\n",
    "#     Assign it to variable `df`\n",
    "\n",
    "# download the data and name the columns\n",
    "\n",
    "\n",
    "df = pd.read_csv(\n",
    "    'http://s3.amazonaws.com/istreet-assets/cqj0wXOp6sICdTRWc5X2cw/olive.csv.txt')\n",
    "\n",
    "\n",
    "\n",
    "# Q5: How many rows and columns are there in `df`? Put your answer in a variable `df_shape`.\n",
    "df_shape = df.shape\n",
    "\n",
    "\n",
    "# Q6: assign the first 2 rows of `df` to `df_first_two`\n",
    "df_first_two = df[0:2]\n",
    "\n",
    "\n",
    "# Q7: How many distinct data types are there in `df`?\n",
    "df_data_types_count = len(df.dtypes.unique())  # this should be an integer\n",
    "\n",
    "\n",
    "# Q8: In `df`, create a new column 'sub_region_raw', which will be a copy of the column 'Unnamed: 0'\n",
    "\n",
    "df=df.assign(sub_region_raw=df['Unnamed: 0'])\n",
    "\n",
    "\n",
    "\n",
    "# Q9: In `df`, rename 'Unnamed: 0' to 'sub_region_desc'\n",
    "df.rename(columns={'Unnamed: 0': 'sub_region_desc'}, inplace=True)\n",
    "\n",
    "\n",
    "\n",
    "# Q10: In `df`, rename the column 'area' to: 'sub_region'\n",
    "df.rename(columns={'area': 'sub_region'}, inplace=True)\n",
    "\n",
    "\n",
    "# Q11: In `df`, get the unique values of the field 'region'\n",
    "region_unique = df['region'].unique()\n",
    "\n",
    "\n",
    "\n",
    "\n",
    "# Q12: In `df`, how many unique values of the field 'sub_region' are there?\n",
    "sub_region_unique_count = len(df['sub_region'].unique())  # should be an integer\n",
    "\n",
    "\n",
    "\n",
    "# Q13: Lets take a look at the field `sub_region_desc`:\n",
    "\n",
    "# >>> df['sub_region_desc'].head(5)\n",
    "# 0    1.North-Apulia\n",
    "# 1    2.North-Apulia\n",
    "# 2    3.North-Apulia\n",
    "# 3    4.North-Apulia\n",
    "# 4    5.North-Apulia\n",
    "\n",
    "import re\n",
    "# Looks like 'sub_region_desc' has line numbers attached to the beginning of region name. Remove those and get the unique values in that field, assign it to `srd_unique`\n",
    "remnumlist=[]\n",
    "for i in df['sub_region_desc']:\n",
    "    remnumlist.append(re.sub('\\d|\\.','',i))\n",
    "    \n",
    "\n",
    "df['sub_region_desc']=remnumlist\n",
    "\n",
    "\n",
    "srd_unique = df['sub_region_desc'].unique()\n"
   ]
  },
  {
   "cell_type": "code",
   "execution_count": 90,
   "metadata": {},
   "outputs": [
    {
     "data": {
      "text/plain": [
       "array([[1, 1],\n",
       "       [1, 0]])"
      ]
     },
     "execution_count": 90,
     "metadata": {},
     "output_type": "execute_result"
    }
   ],
   "source": [
    "A=np.array([[1,-1],[1,0]])\n",
    "A*A*A*A"
   ]
  },
  {
   "cell_type": "code",
   "execution_count": 92,
   "metadata": {},
   "outputs": [],
   "source": [
    "A = np.array([[1,2,3],[2,7,4]])\n",
    "B = np.array([[1,-1],[0,1]])\n",
    "C = np.array([[5,-1],[9,1],[6,0]])\n",
    "D = np.array([[3,-2,-1],[1,2,3]])\n",
    "\n",
    "u = np.array([6,2,-3,5])\n",
    "v = np.array([3,5,-1,4])\n",
    "\n",
    "# Q1: record the dimensions of A, B, C, D, u, v respectively in the dict below. \n",
    "#     Do not type the answers, make python do the work\n",
    "\n"
   ]
  },
  {
   "cell_type": "code",
   "execution_count": 96,
   "metadata": {},
   "outputs": [
    {
     "data": {
      "text/plain": [
       "{'A': (2, 3), 'B': (2, 2), 'C': (3, 2), 'D': (2, 3), 'u': (4,), 'v': (4,)}"
      ]
     },
     "execution_count": 96,
     "metadata": {},
     "output_type": "execute_result"
    }
   ],
   "source": [
    "A = np.array([[1,2,3],[2,7,4]])\n",
    "B = np.array([[1,-1],[0,1]])\n",
    "C = np.array([[5,-1],[9,1],[6,0]])\n",
    "D = np.array([[3,-2,-1],[1,2,3]])\n",
    "\n",
    "u = np.array([6,2,-3,5])\n",
    "v = np.array([3,5,-1,4])\n",
    "\n",
    "# Q1: record the dimensions of A, B, C, D, u, v respectively in the dict below. \n",
    "#     Do not type the answers, make python do the work\n",
    "\n",
    "dimensions = {\n",
    "    'A':A.shape ,\n",
    "    'B':B.shape ,\n",
    "    'C':C.shape ,\n",
    "    'D':D.shape ,\n",
    "    'u':u.shape ,\n",
    "    'v':v.shape \n",
    "}\n",
    "dimensions"
   ]
  },
  {
   "cell_type": "code",
   "execution_count": 104,
   "metadata": {},
   "outputs": [
    {
     "data": {
      "text/plain": [
       "8.602325267042627"
      ]
     },
     "execution_count": 104,
     "metadata": {},
     "output_type": "execute_result"
    }
   ],
   "source": [
    "alpha = 6\n",
    "\n",
    "u_plus_v = u+v            # u+v\n",
    "u_minus_v = u-v         # u-v\n",
    "alpha_times_u =  alpha*u      # alpha * u, alpha = 6\n",
    "u_dot_v = np.dot(u,v)            # u . v\n",
    "norm_u =    np.linalg.norm(u)           # ||u|| \n",
    "\n",
    "\n",
    "u_plus_v            # u+v\n",
    "u_minus_v          # u-v\n",
    "alpha_times_u         # alpha * u, alpha = 6\n",
    "u_dot_v             # u . v\n",
    "norm_u               # ||u|| "
   ]
  },
  {
   "cell_type": "code",
   "execution_count": 158,
   "metadata": {},
   "outputs": [
    {
     "data": {
      "text/plain": [
       "array([[-1, -5, -1],\n",
       "       [ 2,  7,  4]])"
      ]
     },
     "execution_count": 158,
     "metadata": {},
     "output_type": "execute_result"
    }
   ],
   "source": [
    "# Q3: compute the following and assign to variables below:\n",
    "#     assign `None` if the operation is not defined\n",
    "#     do not type the answers, make python do the work\n",
    "\n",
    "def plus(a,b):\n",
    "    try:\n",
    "        return a+b\n",
    "    except ValueError:\n",
    "        return None\n",
    "    \n",
    "def dot(a,b):\n",
    "    try:\n",
    "        return np.dot(a,b)\n",
    "    except ValueError:\n",
    "        return None\n",
    "\n",
    "A_plus_C = plus(A,D)  # A + C\n",
    "A_minus_Ctranspose = A-np.transpose(C)   # A - C.T\n",
    "Ctranspose_plus_3D = np.transpose(C)+(3*D)   # C.T + 3*D\n",
    "B_times_A = dot(B,A)       # B*A\n",
    "B_times_Atranspose = dot(B,np.transpose(A))   # B*A.T\n",
    "\n",
    "A_plus_C               # A + C\n",
    "A_minus_Ctranspose     # A - C.T\n",
    "Ctranspose_plus_3D     # C.T + 3*D\n",
    "B_times_A              # B*A\n",
    "#B_times_Atranspose     # B*A.T"
   ]
  },
  {
   "cell_type": "code",
   "execution_count": 208,
   "metadata": {},
   "outputs": [
    {
     "data": {
      "text/plain": [
       "array([[ 1, -4],\n",
       "       [ 0,  1]])"
      ]
     },
     "execution_count": 208,
     "metadata": {},
     "output_type": "execute_result"
    }
   ],
   "source": [
    "# Q4: (bonus)\n",
    "\n",
    "def dotexp(a,exp):\n",
    "    x=a\n",
    "    exp-=1 #shift exponent down, so input exp=3 counts as exp=2, which when used as range loops 3 time\n",
    "    if exp==0:\n",
    "        return a\n",
    "    else:\n",
    "        for i in range(exp):\n",
    "            x=dot(x,a)\n",
    "        return x\n",
    "\n",
    "B_times_C = dot(B,C)            # B*C\n",
    "C_times_B = dot(C,B)            # C*B\n",
    "B_exp_4 = dotexp(B,4)              # B^4\n",
    "A_times_Atranspose = dot(A,np.transpose(A))  # A*A.T np.linalg.matrix_power(B,4)\n",
    "Dtranspose_times_D = dot(np.transpose(D),D)   # D.T*D\n",
    "\n",
    "# Q4: (bonus)\n",
    "\n",
    "B_times_C              # B*C\n",
    "C_times_B              # C*B\n",
    "B_exp_4                # B^4\n",
    "#A_times_Atranspose     # A*A.T\n",
    "#Dtranspose_times_D     # D.T*D"
   ]
  },
  {
   "cell_type": "code",
   "execution_count": null,
   "metadata": {},
   "outputs": [],
   "source": []
  },
  {
   "cell_type": "code",
   "execution_count": null,
   "metadata": {},
   "outputs": [],
   "source": []
  }
 ],
 "metadata": {
  "kernelspec": {
   "display_name": "Python 3",
   "language": "python",
   "name": "python3"
  },
  "language_info": {
   "codemirror_mode": {
    "name": "ipython",
    "version": 3
   },
   "file_extension": ".py",
   "mimetype": "text/x-python",
   "name": "python",
   "nbconvert_exporter": "python",
   "pygments_lexer": "ipython3",
   "version": "3.7.4"
  }
 },
 "nbformat": 4,
 "nbformat_minor": 2
}
