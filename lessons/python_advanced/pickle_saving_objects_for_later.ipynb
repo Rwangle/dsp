{
 "cells": [
  {
   "cell_type": "code",
   "execution_count": null,
   "metadata": {},
   "outputs": [],
   "source": [
    "import sys\n",
    "print(\"Python Version:\", sys.version, '\\n')"
   ]
  },
  {
   "cell_type": "markdown",
   "metadata": {},
   "source": [
    "# Pickle: Saving Objects for Later"
   ]
  },
  {
   "cell_type": "markdown",
   "metadata": {},
   "source": [
    "Often in data science, we'll create some model or some version of our data and want to use it later. We have many options - we can save the coefficients, or save the data to csv, or...\n",
    "\n",
    "Actually, we don't have that many options. \n",
    "\n",
    "One way to overcome that is to save the python object to a file as a serialized object. That means we convert the entire object to a bunch of bytes, save those bytes into a file, and then have the ability to unpack those bytes back into their original format later. \n",
    "\n",
    "This is done by a module called `pickle`. Let's see it in action."
   ]
  },
  {
   "cell_type": "code",
   "execution_count": 1,
   "metadata": {},
   "outputs": [],
   "source": [
    "import pickle\n",
    "import random\n",
    "\n",
    "lots_of_noise = {\n",
    "    'CA': [random.randint(0,65) for _ in range(100)],\n",
    "    'IL': [random.randint(0,65) for _ in range(50)],\n",
    "    'NY': [random.randint(0,65) for _ in range(90)],\n",
    "    'WA': [random.randint(0,65) for _ in range(33)]\n",
    "}"
   ]
  },
  {
   "cell_type": "code",
   "execution_count": 2,
   "metadata": {},
   "outputs": [
    {
     "name": "stdout",
     "output_type": "stream",
     "text": [
      "{'CA': [42, 35, 23, 26, 0, 65, 59, 12, 34, 34, 60, 62, 5, 32, 12, 15, 0, 62, 2, 27, 2, 3, 7, 46, 16, 14, 5, 14, 40, 57, 29, 53, 44, 7, 60, 44, 40, 42, 9, 5, 43, 35, 56, 10, 60, 12, 21, 23, 49, 55, 24, 7, 46, 5, 26, 10, 19, 47, 50, 54, 43, 33, 18, 36, 16, 40, 31, 63, 34, 14, 32, 38, 15, 25, 54, 57, 59, 52, 57, 25, 55, 36, 11, 22, 30, 34, 50, 52, 35, 8, 13, 38, 22, 8, 61, 25, 27, 53, 20, 29], 'IL': [13, 50, 32, 9, 34, 42, 9, 55, 37, 61, 20, 63, 61, 54, 60, 16, 25, 17, 40, 43, 7, 3, 19, 25, 12, 38, 8, 7, 10, 17, 0, 6, 28, 25, 31, 52, 2, 37, 29, 9, 52, 61, 41, 47, 32, 13, 31, 35, 9, 45], 'NY': [15, 50, 13, 17, 61, 5, 8, 50, 4, 5, 37, 12, 30, 21, 41, 28, 41, 35, 30, 38, 38, 21, 27, 7, 25, 29, 9, 23, 25, 0, 53, 64, 36, 27, 51, 29, 53, 48, 23, 57, 32, 17, 39, 48, 27, 20, 65, 38, 16, 41, 46, 25, 27, 40, 38, 48, 43, 16, 63, 16, 30, 23, 46, 27, 65, 63, 51, 2, 1, 9, 3, 42, 40, 41, 27, 31, 45, 35, 34, 29, 49, 23, 17, 47, 45, 1, 64, 56, 51, 25], 'WA': [55, 27, 57, 26, 39, 7, 0, 35, 32, 56, 48, 62, 52, 43, 15, 62, 46, 49, 38, 34, 48, 60, 62, 50, 9, 14, 56, 12, 35, 27, 45, 26, 12]}\n"
     ]
    }
   ],
   "source": [
    "print(lots_of_noise)"
   ]
  },
  {
   "cell_type": "code",
   "execution_count": 3,
   "metadata": {},
   "outputs": [
    {
     "name": "stdout",
     "output_type": "stream",
     "text": [
      "Variable        Type      Data/Info\n",
      "-----------------------------------\n",
      "lots_of_noise   dict      n=4\n",
      "pickle          module    <module 'pickle' from '/U<...>lib/python3.7/pickle.py'>\n",
      "random          module    <module 'random' from '/U<...>lib/python3.7/random.py'>\n"
     ]
    }
   ],
   "source": [
    "whos"
   ]
  },
  {
   "cell_type": "markdown",
   "metadata": {},
   "source": [
    "We can see in this `whos` command that the object `lots_of_noise` exists and is a `dict` with 4 keys. Nice. Now let's look at our file system and verify that there isn't a file called `noise.pickle`."
   ]
  },
  {
   "cell_type": "code",
   "execution_count": 15,
   "metadata": {},
   "outputs": [
    {
     "name": "stdout",
     "output_type": "stream",
     "text": [
      "advanced_python_datatypes.ipynb       my_dataframe.pickle\r\n",
      "deep_and_shallow_copy.ipynb           noise.pickle\r\n",
      "\u001b[34mdeep_copy_demo\u001b[m\u001b[m                        pickle_saving_objects_for_later.ipynb\r\n",
      "instructor_guide_week1_day4.md        readme.md\r\n"
     ]
    }
   ],
   "source": [
    "!ls"
   ]
  },
  {
   "cell_type": "markdown",
   "metadata": {},
   "source": [
    "Okay, now we're ready to create a file and write the bytes to it. To do this with `pickle`, we use python's read-write streamer `open` and create a writable-binary (`wb`) file. We'll then use `pickle.dump` to put an object into that file as a string of bytes."
   ]
  },
  {
   "cell_type": "code",
   "execution_count": 5,
   "metadata": {},
   "outputs": [],
   "source": [
    "with open('noise.pickle', 'wb') as to_write:\n",
    "    pickle.dump(lots_of_noise, to_write)"
   ]
  },
  {
   "cell_type": "code",
   "execution_count": 6,
   "metadata": {},
   "outputs": [
    {
     "name": "stdout",
     "output_type": "stream",
     "text": [
      "advanced_python_datatypes.ipynb       my_dataframe.pickle\r\n",
      "deep_and_shallow_copy.ipynb           noise.pickle\r\n",
      "\u001b[34mdeep_copy_demo\u001b[m\u001b[m                        pickle_saving_objects_for_later.ipynb\r\n",
      "instructor_guide_week1_day4.md        readme.md\r\n"
     ]
    }
   ],
   "source": [
    "!ls"
   ]
  },
  {
   "cell_type": "markdown",
   "metadata": {},
   "source": [
    "Now let's delete `lots_of_noise` and prove to ourselves it doesn't exist in Python's memory anymore."
   ]
  },
  {
   "cell_type": "code",
   "execution_count": 7,
   "metadata": {},
   "outputs": [],
   "source": [
    "del lots_of_noise"
   ]
  },
  {
   "cell_type": "code",
   "execution_count": 13,
   "metadata": {},
   "outputs": [
    {
     "name": "stdout",
     "output_type": "stream",
     "text": [
      "Variable    Type              Data/Info\n",
      "---------------------------------------\n",
      "new_noise   dict              n=4\n",
      "pickle      module            <module 'pickle' from '/U<...>lib/python3.7/pickle.py'>\n",
      "random      module            <module 'random' from '/U<...>lib/python3.7/random.py'>\n",
      "read_file   BufferedReader    <_io.BufferedReader name='noise.pickle'>\n",
      "to_write    BufferedWriter    <_io.BufferedWriter name='noise.pickle'>\n"
     ]
    }
   ],
   "source": [
    "whos"
   ]
  },
  {
   "cell_type": "code",
   "execution_count": 14,
   "metadata": {},
   "outputs": [
    {
     "ename": "NameError",
     "evalue": "name 'lots_of_noise' is not defined",
     "output_type": "error",
     "traceback": [
      "\u001b[0;31m---------------------------------------------------------------------------\u001b[0m",
      "\u001b[0;31mNameError\u001b[0m                                 Traceback (most recent call last)",
      "\u001b[0;32m<ipython-input-14-69f22b4d5ca8>\u001b[0m in \u001b[0;36m<module>\u001b[0;34m\u001b[0m\n\u001b[0;32m----> 1\u001b[0;31m \u001b[0mprint\u001b[0m\u001b[0;34m(\u001b[0m\u001b[0mlots_of_noise\u001b[0m\u001b[0;34m)\u001b[0m\u001b[0;34m\u001b[0m\u001b[0;34m\u001b[0m\u001b[0m\n\u001b[0m",
      "\u001b[0;31mNameError\u001b[0m: name 'lots_of_noise' is not defined"
     ]
    }
   ],
   "source": [
    "print(lots_of_noise)"
   ]
  },
  {
   "cell_type": "markdown",
   "metadata": {},
   "source": [
    "Lovely. It's dead forever. Or is it?\n",
    "\n",
    "Let's open that `noise.pickle` file with read-binary (`rb`) mode. Then we'll ask pickle to retrieve the file with `pickle.load` and store it back in a variable."
   ]
  },
  {
   "cell_type": "code",
   "execution_count": 10,
   "metadata": {},
   "outputs": [],
   "source": [
    "with open('noise.pickle','rb') as read_file:\n",
    "    new_noise = pickle.load(read_file)"
   ]
  },
  {
   "cell_type": "code",
   "execution_count": 11,
   "metadata": {},
   "outputs": [
    {
     "name": "stdout",
     "output_type": "stream",
     "text": [
      "{'CA': [42, 35, 23, 26, 0, 65, 59, 12, 34, 34, 60, 62, 5, 32, 12, 15, 0, 62, 2, 27, 2, 3, 7, 46, 16, 14, 5, 14, 40, 57, 29, 53, 44, 7, 60, 44, 40, 42, 9, 5, 43, 35, 56, 10, 60, 12, 21, 23, 49, 55, 24, 7, 46, 5, 26, 10, 19, 47, 50, 54, 43, 33, 18, 36, 16, 40, 31, 63, 34, 14, 32, 38, 15, 25, 54, 57, 59, 52, 57, 25, 55, 36, 11, 22, 30, 34, 50, 52, 35, 8, 13, 38, 22, 8, 61, 25, 27, 53, 20, 29], 'IL': [13, 50, 32, 9, 34, 42, 9, 55, 37, 61, 20, 63, 61, 54, 60, 16, 25, 17, 40, 43, 7, 3, 19, 25, 12, 38, 8, 7, 10, 17, 0, 6, 28, 25, 31, 52, 2, 37, 29, 9, 52, 61, 41, 47, 32, 13, 31, 35, 9, 45], 'NY': [15, 50, 13, 17, 61, 5, 8, 50, 4, 5, 37, 12, 30, 21, 41, 28, 41, 35, 30, 38, 38, 21, 27, 7, 25, 29, 9, 23, 25, 0, 53, 64, 36, 27, 51, 29, 53, 48, 23, 57, 32, 17, 39, 48, 27, 20, 65, 38, 16, 41, 46, 25, 27, 40, 38, 48, 43, 16, 63, 16, 30, 23, 46, 27, 65, 63, 51, 2, 1, 9, 3, 42, 40, 41, 27, 31, 45, 35, 34, 29, 49, 23, 17, 47, 45, 1, 64, 56, 51, 25], 'WA': [55, 27, 57, 26, 39, 7, 0, 35, 32, 56, 48, 62, 52, 43, 15, 62, 46, 49, 38, 34, 48, 60, 62, 50, 9, 14, 56, 12, 35, 27, 45, 26, 12]}\n"
     ]
    }
   ],
   "source": [
    "print(new_noise)"
   ]
  },
  {
   "cell_type": "code",
   "execution_count": 12,
   "metadata": {},
   "outputs": [
    {
     "name": "stdout",
     "output_type": "stream",
     "text": [
      "Variable    Type              Data/Info\n",
      "---------------------------------------\n",
      "new_noise   dict              n=4\n",
      "pickle      module            <module 'pickle' from '/U<...>lib/python3.7/pickle.py'>\n",
      "random      module            <module 'random' from '/U<...>lib/python3.7/random.py'>\n",
      "read_file   BufferedReader    <_io.BufferedReader name='noise.pickle'>\n",
      "to_write    BufferedWriter    <_io.BufferedWriter name='noise.pickle'>\n"
     ]
    }
   ],
   "source": [
    "whos"
   ]
  },
  {
   "cell_type": "markdown",
   "metadata": {},
   "source": [
    "Random noise lives! We retrieved the entire structure from file. Nice."
   ]
  },
  {
   "cell_type": "markdown",
   "metadata": {},
   "source": [
    "### Okay, but I don't use dictionaries... I use pandas."
   ]
  },
  {
   "cell_type": "code",
   "execution_count": 16,
   "metadata": {},
   "outputs": [
    {
     "data": {
      "text/html": [
       "<div>\n",
       "<style scoped>\n",
       "    .dataframe tbody tr th:only-of-type {\n",
       "        vertical-align: middle;\n",
       "    }\n",
       "\n",
       "    .dataframe tbody tr th {\n",
       "        vertical-align: top;\n",
       "    }\n",
       "\n",
       "    .dataframe thead th {\n",
       "        text-align: right;\n",
       "    }\n",
       "</style>\n",
       "<table border=\"1\" class=\"dataframe\">\n",
       "  <thead>\n",
       "    <tr style=\"text-align: right;\">\n",
       "      <th></th>\n",
       "      <th>Yay</th>\n",
       "      <th>specific</th>\n",
       "      <th>column</th>\n",
       "      <th>names</th>\n",
       "    </tr>\n",
       "  </thead>\n",
       "  <tbody>\n",
       "    <tr>\n",
       "      <td>0</td>\n",
       "      <td>-1.469065</td>\n",
       "      <td>-7.372281</td>\n",
       "      <td>8.725529</td>\n",
       "      <td>-2.084415</td>\n",
       "    </tr>\n",
       "    <tr>\n",
       "      <td>1</td>\n",
       "      <td>-1.390369</td>\n",
       "      <td>1.929408</td>\n",
       "      <td>-6.002177</td>\n",
       "      <td>-5.791695</td>\n",
       "    </tr>\n",
       "    <tr>\n",
       "      <td>2</td>\n",
       "      <td>4.713555</td>\n",
       "      <td>5.680526</td>\n",
       "      <td>0.864767</td>\n",
       "      <td>2.104480</td>\n",
       "    </tr>\n",
       "    <tr>\n",
       "      <td>3</td>\n",
       "      <td>-9.439896</td>\n",
       "      <td>4.115723</td>\n",
       "      <td>-1.394590</td>\n",
       "      <td>-9.275770</td>\n",
       "    </tr>\n",
       "    <tr>\n",
       "      <td>4</td>\n",
       "      <td>8.364742</td>\n",
       "      <td>-8.518455</td>\n",
       "      <td>3.256643</td>\n",
       "      <td>-4.690516</td>\n",
       "    </tr>\n",
       "  </tbody>\n",
       "</table>\n",
       "</div>"
      ],
      "text/plain": [
       "        Yay  specific    column     names\n",
       "0 -1.469065 -7.372281  8.725529 -2.084415\n",
       "1 -1.390369  1.929408 -6.002177 -5.791695\n",
       "2  4.713555  5.680526  0.864767  2.104480\n",
       "3 -9.439896  4.115723 -1.394590 -9.275770\n",
       "4  8.364742 -8.518455  3.256643 -4.690516"
      ]
     },
     "execution_count": 16,
     "metadata": {},
     "output_type": "execute_result"
    }
   ],
   "source": [
    "import pandas as pd\n",
    "import numpy as np\n",
    "\n",
    "df = pd.DataFrame(np.random.uniform(-10,10, size=(100,4)), columns=['Yay','specific','column','names'])\n",
    "df.head(5)"
   ]
  },
  {
   "cell_type": "code",
   "execution_count": 17,
   "metadata": {},
   "outputs": [],
   "source": [
    "with open('my_dataframe.pickle', 'wb') as to_write:\n",
    "    pickle.dump(df, to_write)"
   ]
  },
  {
   "cell_type": "code",
   "execution_count": 18,
   "metadata": {},
   "outputs": [
    {
     "ename": "NameError",
     "evalue": "name 'df' is not defined",
     "output_type": "error",
     "traceback": [
      "\u001b[0;31m---------------------------------------------------------------------------\u001b[0m",
      "\u001b[0;31mNameError\u001b[0m                                 Traceback (most recent call last)",
      "\u001b[0;32m<ipython-input-18-3975f6306adf>\u001b[0m in \u001b[0;36m<module>\u001b[0;34m\u001b[0m\n\u001b[1;32m      1\u001b[0m \u001b[0;32mdel\u001b[0m \u001b[0mdf\u001b[0m\u001b[0;34m\u001b[0m\u001b[0;34m\u001b[0m\u001b[0m\n\u001b[1;32m      2\u001b[0m \u001b[0;34m\u001b[0m\u001b[0m\n\u001b[0;32m----> 3\u001b[0;31m \u001b[0mdf\u001b[0m\u001b[0;34m.\u001b[0m\u001b[0mhead\u001b[0m\u001b[0;34m(\u001b[0m\u001b[0;36m5\u001b[0m\u001b[0;34m)\u001b[0m\u001b[0;34m\u001b[0m\u001b[0;34m\u001b[0m\u001b[0m\n\u001b[0m",
      "\u001b[0;31mNameError\u001b[0m: name 'df' is not defined"
     ]
    }
   ],
   "source": [
    "del df\n",
    "\n",
    "df.head(5)"
   ]
  },
  {
   "cell_type": "code",
   "execution_count": 19,
   "metadata": {},
   "outputs": [
    {
     "data": {
      "text/html": [
       "<div>\n",
       "<style scoped>\n",
       "    .dataframe tbody tr th:only-of-type {\n",
       "        vertical-align: middle;\n",
       "    }\n",
       "\n",
       "    .dataframe tbody tr th {\n",
       "        vertical-align: top;\n",
       "    }\n",
       "\n",
       "    .dataframe thead th {\n",
       "        text-align: right;\n",
       "    }\n",
       "</style>\n",
       "<table border=\"1\" class=\"dataframe\">\n",
       "  <thead>\n",
       "    <tr style=\"text-align: right;\">\n",
       "      <th></th>\n",
       "      <th>Yay</th>\n",
       "      <th>specific</th>\n",
       "      <th>column</th>\n",
       "      <th>names</th>\n",
       "    </tr>\n",
       "  </thead>\n",
       "  <tbody>\n",
       "    <tr>\n",
       "      <td>0</td>\n",
       "      <td>-1.469065</td>\n",
       "      <td>-7.372281</td>\n",
       "      <td>8.725529</td>\n",
       "      <td>-2.084415</td>\n",
       "    </tr>\n",
       "    <tr>\n",
       "      <td>1</td>\n",
       "      <td>-1.390369</td>\n",
       "      <td>1.929408</td>\n",
       "      <td>-6.002177</td>\n",
       "      <td>-5.791695</td>\n",
       "    </tr>\n",
       "    <tr>\n",
       "      <td>2</td>\n",
       "      <td>4.713555</td>\n",
       "      <td>5.680526</td>\n",
       "      <td>0.864767</td>\n",
       "      <td>2.104480</td>\n",
       "    </tr>\n",
       "    <tr>\n",
       "      <td>3</td>\n",
       "      <td>-9.439896</td>\n",
       "      <td>4.115723</td>\n",
       "      <td>-1.394590</td>\n",
       "      <td>-9.275770</td>\n",
       "    </tr>\n",
       "    <tr>\n",
       "      <td>4</td>\n",
       "      <td>8.364742</td>\n",
       "      <td>-8.518455</td>\n",
       "      <td>3.256643</td>\n",
       "      <td>-4.690516</td>\n",
       "    </tr>\n",
       "  </tbody>\n",
       "</table>\n",
       "</div>"
      ],
      "text/plain": [
       "        Yay  specific    column     names\n",
       "0 -1.469065 -7.372281  8.725529 -2.084415\n",
       "1 -1.390369  1.929408 -6.002177 -5.791695\n",
       "2  4.713555  5.680526  0.864767  2.104480\n",
       "3 -9.439896  4.115723 -1.394590 -9.275770\n",
       "4  8.364742 -8.518455  3.256643 -4.690516"
      ]
     },
     "execution_count": 19,
     "metadata": {},
     "output_type": "execute_result"
    }
   ],
   "source": [
    "with open('my_dataframe.pickle','rb') as read_file:\n",
    "    new_df = pickle.load(read_file)\n",
    "    \n",
    "new_df.head(5)"
   ]
  },
  {
   "cell_type": "markdown",
   "metadata": {},
   "source": [
    "Pickle is a great tool. One recommended way of using it is to make it an end point of every step in your process. Example:\n",
    "\n",
    "* I got my data! Nice. Pickle it and stop your \"getting the data\" notebook.\n",
    "* Load your data from pickle. Clean it. Save your clean data to a new pickle.\n",
    "* Load your cleaned_data pickle. Do analysis and visualize it.\n",
    "\n",
    "This can provide natural \"pick-up-where-I-left-off-but-before-I-broke-my-data\" points. It's a great way to control the flow of your data.\n",
    "\n",
    "#### Resources\n",
    "\n",
    "https://docs.python.org/3.7/library/pickle.html"
   ]
  },
  {
   "cell_type": "code",
   "execution_count": 121,
   "metadata": {},
   "outputs": [
    {
     "name": "stdout",
     "output_type": "stream",
     "text": [
      "defaultdict(<class 'int'>, {'AssociateProfessorofBiostatistics': 12, 'ProfessorofBiostatistics': 13, 'AssistantProfessorofBiostatistics': 11, 'AssistantProfessorisBiostatistics': 1})\n"
     ]
    }
   ],
   "source": [
    "import csv\n",
    "from collections import defaultdict\n",
    "import re\n",
    "\n",
    "def count_titles(csv_file_name):\n",
    "    #count={}\n",
    "    count = defaultdict(int)\n",
    "    with open(csv_file_name) as csvfile:\n",
    "        readCSV = csv.reader(csvfile)\n",
    "        titlelist=[]\n",
    "        for row in readCSV:\n",
    "            #print(row)\n",
    "            \n",
    "            titlelist.append(row[2])\n",
    "        titlelist.remove(' title')\n",
    "        \n",
    "\n",
    "        newlist=[re.sub('[^a-zA-Z0]', \"\", d) for d in titlelist] #remove all non a-zA-z0 characters,\n",
    "        #rem_under_list=[re.sub(\"(\\w)([A-Z]+), \"\", d) for d in rem_space_period_list]\n",
    "        #print(newlist)\n",
    "\n",
    "        newlist1=[re.sub('AssistantProfessor.*Biostatistics', \"AssistantProfessorBiostatistics\", d) for d in newlist] #account for typo\n",
    "        for degree in newlist1:  #defaultdict count method\n",
    "            count[degree]+=1\n",
    "        #print(count)\n",
    "        return(count)\n",
    "                       \n",
    "           \n",
    "\n",
    "\n",
    "degreecounts = count_titles('faculty.csv')"
   ]
  },
  {
   "cell_type": "code",
   "execution_count": null,
   "metadata": {},
   "outputs": [],
   "source": [
    "def count_degrees(csv_file_name):\n",
    "    #count={}\n",
    "    count = defaultdict(int)\n",
    "    with open(csv_file_name) as csvfile:\n",
    "        readCSV = csv.reader(csvfile)\n",
    "        degreelist=[]\n",
    "        for row in readCSV:\n",
    "            #print(row)\n",
    "            \n",
    "            degreelist.append(row[1])\n",
    "        degreelist.remove(' degree')\n",
    "        #print(degreelist)\n",
    "        n=[]\n",
    "        for d in degreelist:\n",
    "            n.append(re.split('\\s',d)) #split the long degree strings\n",
    "        #print(n)\n",
    "        \n",
    "        flattened = [val for sublist in n for val in sublist]\n",
    "        #print(flattened)\n",
    "        test_list = [i for i in flattened if i]  #remove all empty strings, which evaluate to false in if statement\n",
    "\n",
    "        #print(test_list)\n",
    "\n",
    "        newlist=[re.sub('[^a-zA-Z0]', \"\", d) for d in test_list] #remove all non a-zA-z0 characters,\n",
    "        #rem_under_list=[re.sub(\"(\\w)([A-Z]+), \"\", d) for d in rem_space_period_list]\n",
    "        #print(newlist)\n",
    "        for degree in newlist:  #defaultdict count method\n",
    "            count[degree]+=1\n",
    "        #print(count)\n",
    "        return(count)\n"
   ]
  },
  {
   "cell_type": "code",
   "execution_count": null,
   "metadata": {},
   "outputs": [],
   "source": [
    "import csv\n",
    "from collections import defaultdict\n",
    "import re\n",
    "\n",
    "\n",
    "def emails(csv_file_name):\n",
    "    count = defaultdict(int)\n",
    "    with open(csv_file_name) as csvfile:\n",
    "        readCSV = csv.reader(csvfile)\n",
    "        emaillist=[]\n",
    "        for row in readCSV:\n",
    "            #print(row)\n",
    "            \n",
    "            emaillist.append(row[3])\n",
    "        emaillist.remove(' email')\n",
    "        \n",
    "    return(emaillist)"
   ]
  },
  {
   "cell_type": "code",
   "execution_count": 145,
   "metadata": {},
   "outputs": [],
   "source": [
    "import csv\n",
    "\n",
    "\n",
    "def write_to_csv(list_of_emails):\n",
    "    with open(\"emails.csv\",'w') as resultFile:\n",
    "        wr = csv.writer(resultFile,delimiter='\\n')\n",
    "        wr.writerow([\"list_of_emails\"])\n",
    "        wr.writerow(list_of_emails)\n",
    "    \n",
    "write_to_csv(['a','b','c'])"
   ]
  },
  {
   "cell_type": "code",
   "execution_count": 257,
   "metadata": {},
   "outputs": [
    {
     "data": {
      "text/plain": [
       "defaultdict(list,\n",
       "            {'Bellamy': [[' Sc.D.',\n",
       "               'Associate Professor of Biostatistics',\n",
       "               'bellamys@mail.med.upenn.edu']],\n",
       "             'Bilker': [['Ph.D.',\n",
       "               'Professor of Biostatistics',\n",
       "               'warren@upenn.edu']],\n",
       "             'Bryan': [[' PhD',\n",
       "               'Assistant Professor of Biostatistics',\n",
       "               'bryanma@upenn.edu']],\n",
       "             'Chen': [[' Ph.D.',\n",
       "               'Associate Professor of Biostatistics',\n",
       "               'jinboche@upenn.edu']],\n",
       "             'Ellenberg': [[' Ph.D.',\n",
       "               'Professor of Biostatistics',\n",
       "               'sellenbe@upenn.edu'],\n",
       "              [' Ph.D.',\n",
       "               'Professor of Biostatistics',\n",
       "               'jellenbe@mail.med.upenn.edu']],\n",
       "             'Feng': [[' Ph.D',\n",
       "               'Assistant Professor of Biostatistics',\n",
       "               'ruifeng@upenn.edu']],\n",
       "             'French': [[' PhD',\n",
       "               'Associate Professor of Biostatistics',\n",
       "               'bcfrench@mail.med.upenn.edu']],\n",
       "             'Gimotty': [[' Ph.D',\n",
       "               'Professor of Biostatistics',\n",
       "               'pgimotty@upenn.edu']],\n",
       "             'Guo': [[' Ph.D',\n",
       "               'Professor of Biostatistics',\n",
       "               'wguo@mail.med.upenn.edu']],\n",
       "             'Hsu': [[' Ph.D.',\n",
       "               'Assistant Professor of Biostatistics',\n",
       "               'hsu9@mail.med.upenn.edu']],\n",
       "             'Hubbard': [[' PhD',\n",
       "               'Associate Professor of Biostatistics',\n",
       "               'rhubb@mail.med.upenn.edu']],\n",
       "             'Hwang': [[' Ph.D.',\n",
       "               'Associate Professor of Biostatistics',\n",
       "               'whwang@mail.med.upenn.edu']],\n",
       "             'Joffe': [[' MD MPH Ph.D',\n",
       "               'Professor of Biostatistics',\n",
       "               'mjoffe@mail.med.upenn.edu']],\n",
       "             'Landis': [[' B.S.Ed. M.S. Ph.D.',\n",
       "               'Professor of Biostatistics',\n",
       "               'jrlandis@mail.med.upenn.edu']],\n",
       "             'Li': [[' Ph.D.',\n",
       "               'Assistant Professor of Biostatistics',\n",
       "               'liy3@email.chop.edu'],\n",
       "              [' Ph.D.',\n",
       "               'Associate Professor of Biostatistics',\n",
       "               'mingyao@mail.med.upenn.edu'],\n",
       "              [' Ph.D', 'Professor of Biostatistics', 'hongzhe@upenn.edu']],\n",
       "             'Localio': [[' JD MA MPH MS PhD',\n",
       "               'Associate Professor of Biostatistics',\n",
       "               'rlocalio@upenn.edu']],\n",
       "             'Mitra': [[' Ph.D.',\n",
       "               'Associate Professor of Biostatistics',\n",
       "               'nanditam@mail.med.upenn.edu']],\n",
       "             'Morales': [[' Sc.D.',\n",
       "               'Associate Professor of Biostatistics',\n",
       "               'knashawn@mail.med.upenn.edu']],\n",
       "             'Propert': [[' Sc.D.',\n",
       "               'Professor of Biostatistics',\n",
       "               'propert@mail.med.upenn.edu']],\n",
       "             'Putt': [[' PhD ScD',\n",
       "               'Professor of Biostatistics',\n",
       "               'mputt@mail.med.upenn.edu']],\n",
       "             'Ratcliffe': [[' Ph.D.',\n",
       "               'Associate Professor of Biostatistics',\n",
       "               'sratclif@upenn.edu']],\n",
       "             'Ross': [[' PhD',\n",
       "               'Assistant Professor is Biostatistics',\n",
       "               'michross@upenn.edu']],\n",
       "             'Roy': [[' Ph.D.',\n",
       "               'Associate Professor of Biostatistics',\n",
       "               'jaroy@mail.med.upenn.edu']],\n",
       "             'Sammel': [[' Sc.D.',\n",
       "               'Professor of Biostatistics',\n",
       "               'msammel@cceb.med.upenn.edu']],\n",
       "             'Shaw': [[' PhD',\n",
       "               'Assistant Professor of Biostatistics',\n",
       "               'shawp@upenn.edu']],\n",
       "             'Shinohara': [['0',\n",
       "               'Assistant Professor of Biostatistics',\n",
       "               'rshi@mail.med.upenn.edu']],\n",
       "             'Shou': [[' Ph.D.',\n",
       "               'Assistant Professor of Biostatistics',\n",
       "               'hshou@mail.med.upenn.edu']],\n",
       "             'Shults': [[' Ph.D.',\n",
       "               'Professor of Biostatistics',\n",
       "               'jshults@mail.med.upenn.edu']],\n",
       "             'Stephens': [[' Ph.D.',\n",
       "               'Assistant Professor of Biostatistics',\n",
       "               'alisaste@mail.med.upenn.edu']],\n",
       "             'Troxel': [[' ScD',\n",
       "               'Professor of Biostatistics',\n",
       "               'atroxel@mail.med.upenn.edu']],\n",
       "             'Xiao': [[' PhD',\n",
       "               'Assistant Professor of Biostatistics',\n",
       "               'rxiao@mail.med.upenn.edu']],\n",
       "             'Xie': [[' Ph.D.',\n",
       "               'Associate Professor of Biostatistics',\n",
       "               'sxie@mail.med.upenn.edu'],\n",
       "              [' PhD',\n",
       "               'Assistant Professor of Biostatistics',\n",
       "               'dxie@upenn.edu']],\n",
       "             'Yang': [[' Ph.D.',\n",
       "               'Assistant Professor of Biostatistics',\n",
       "               'weiyang@mail.med.upenn.edu']]})"
      ]
     },
     "execution_count": 257,
     "metadata": {},
     "output_type": "execute_result"
    }
   ],
   "source": [
    "import csv \n",
    "import re\n",
    "from collections import defaultdict\n",
    "\n",
    "\n",
    "\n",
    "def get_dict():\n",
    "    with open('faculty.csv') as csvfile:\n",
    "        readCSV=csv.reader(csvfile)\n",
    "        LNlist=[]\n",
    "        LNdict=defaultdict(list)\n",
    "        for row in list(readCSV)[1:]: #convert to list to skip first row of labels\n",
    "            #print(row[0])\n",
    "            x = re.sub(\".* \", \"\", row[0]) #iterates throguh each string atrow[0] and replaces all spaces and everything in front with nothing\n",
    "            LNlist.append(x)\n",
    "        #print(LNlist)\n",
    "            LNlist=list(set(LNlist)) #remove duplicates\n",
    "            \n",
    "            \n",
    "            for l in LNlist:\n",
    "                copylist=[]\n",
    "                if l==x:\n",
    "                    copylist.append(row[1:])\n",
    "                    LNdict[l]+=copylist\n",
    "                #print(l)\n",
    "        #print(LNlist)\n",
    "        return(LNdict)\n",
    "        #nonamelist=[]\n",
    "        #for row in readCSV:\n",
    "        #    print(row[0])\n",
    "            #nonamelist.append(row[0])\n",
    "        #print(nonamelist)\n",
    "        \n",
    "get_dict()"
   ]
  },
  {
   "cell_type": "code",
   "execution_count": 261,
   "metadata": {},
   "outputs": [
    {
     "data": {
      "text/plain": [
       "defaultdict(list,\n",
       "            {('Scarlett', 'L.', 'Bellamy'): [' Sc.D.',\n",
       "              'Associate Professor of Biostatistics',\n",
       "              'bellamys@mail.med.upenn.edu'],\n",
       "             ('Warren', 'B.', 'Bilker'): ['Ph.D.',\n",
       "              'Professor of Biostatistics',\n",
       "              'warren@upenn.edu'],\n",
       "             ('Matthew', 'W', 'Bryan'): [' PhD',\n",
       "              'Assistant Professor of Biostatistics',\n",
       "              'bryanma@upenn.edu'],\n",
       "             ('Jinbo', 'Chen'): [' Ph.D.',\n",
       "              'Associate Professor of Biostatistics',\n",
       "              'jinboche@upenn.edu'],\n",
       "             ('Susan', 'S', 'Ellenberg'): [' Ph.D.',\n",
       "              'Professor of Biostatistics',\n",
       "              'sellenbe@upenn.edu'],\n",
       "             ('Jonas', 'H.', 'Ellenberg'): [' Ph.D.',\n",
       "              'Professor of Biostatistics',\n",
       "              'jellenbe@mail.med.upenn.edu'],\n",
       "             ('Rui', 'Feng'): [' Ph.D',\n",
       "              'Assistant Professor of Biostatistics',\n",
       "              'ruifeng@upenn.edu'],\n",
       "             ('Benjamin', 'C.', 'French'): [' PhD',\n",
       "              'Associate Professor of Biostatistics',\n",
       "              'bcfrench@mail.med.upenn.edu'],\n",
       "             ('Phyllis', 'A.', 'Gimotty'): [' Ph.D',\n",
       "              'Professor of Biostatistics',\n",
       "              'pgimotty@upenn.edu'],\n",
       "             ('Wensheng', 'Guo'): [' Ph.D',\n",
       "              'Professor of Biostatistics',\n",
       "              'wguo@mail.med.upenn.edu'],\n",
       "             ('Yenchih', 'Hsu'): [' Ph.D.',\n",
       "              'Assistant Professor of Biostatistics',\n",
       "              'hsu9@mail.med.upenn.edu'],\n",
       "             ('Rebecca', 'A', 'Hubbard'): [' PhD',\n",
       "              'Associate Professor of Biostatistics',\n",
       "              'rhubb@mail.med.upenn.edu'],\n",
       "             ('Wei-Ting', 'Hwang'): [' Ph.D.',\n",
       "              'Associate Professor of Biostatistics',\n",
       "              'whwang@mail.med.upenn.edu'],\n",
       "             ('Marshall', 'M.', 'Joffe'): [' MD MPH Ph.D',\n",
       "              'Professor of Biostatistics',\n",
       "              'mjoffe@mail.med.upenn.edu'],\n",
       "             ('J.', 'Richard', 'Landis'): [' B.S.Ed. M.S. Ph.D.',\n",
       "              'Professor of Biostatistics',\n",
       "              'jrlandis@mail.med.upenn.edu'],\n",
       "             ('Yimei', 'Li'): [' Ph.D.',\n",
       "              'Assistant Professor of Biostatistics',\n",
       "              'liy3@email.chop.edu'],\n",
       "             ('Mingyao', 'Li'): [' Ph.D.',\n",
       "              'Associate Professor of Biostatistics',\n",
       "              'mingyao@mail.med.upenn.edu'],\n",
       "             ('Hongzhe', 'Li'): [' Ph.D',\n",
       "              'Professor of Biostatistics',\n",
       "              'hongzhe@upenn.edu'],\n",
       "             ('A.', 'Russell', 'Localio'): [' JD MA MPH MS PhD',\n",
       "              'Associate Professor of Biostatistics',\n",
       "              'rlocalio@upenn.edu'],\n",
       "             ('Nandita', 'Mitra'): [' Ph.D.',\n",
       "              'Associate Professor of Biostatistics',\n",
       "              'nanditam@mail.med.upenn.edu'],\n",
       "             ('Knashawn', 'H.', 'Morales'): [' Sc.D.',\n",
       "              'Associate Professor of Biostatistics',\n",
       "              'knashawn@mail.med.upenn.edu'],\n",
       "             ('Kathleen', 'Joy', 'Propert'): [' Sc.D.',\n",
       "              'Professor of Biostatistics',\n",
       "              'propert@mail.med.upenn.edu'],\n",
       "             ('Mary', 'E.', 'Putt'): [' PhD ScD',\n",
       "              'Professor of Biostatistics',\n",
       "              'mputt@mail.med.upenn.edu'],\n",
       "             ('Sarah', 'Jane', 'Ratcliffe'): [' Ph.D.',\n",
       "              'Associate Professor of Biostatistics',\n",
       "              'sratclif@upenn.edu'],\n",
       "             ('Michelle', 'Elana', 'Ross'): [' PhD',\n",
       "              'Assistant Professor is Biostatistics',\n",
       "              'michross@upenn.edu'],\n",
       "             ('Jason', 'A.', 'Roy'): [' Ph.D.',\n",
       "              'Associate Professor of Biostatistics',\n",
       "              'jaroy@mail.med.upenn.edu'],\n",
       "             ('Mary', 'D.', 'Sammel'): [' Sc.D.',\n",
       "              'Professor of Biostatistics',\n",
       "              'msammel@cceb.med.upenn.edu'],\n",
       "             ('Pamela', 'Ann', 'Shaw'): [' PhD',\n",
       "              'Assistant Professor of Biostatistics',\n",
       "              'shawp@upenn.edu'],\n",
       "             ('Russell', 'Takeshi', 'Shinohara'): ['0',\n",
       "              'Assistant Professor of Biostatistics',\n",
       "              'rshi@mail.med.upenn.edu'],\n",
       "             ('Haochang', 'Shou'): [' Ph.D.',\n",
       "              'Assistant Professor of Biostatistics',\n",
       "              'hshou@mail.med.upenn.edu'],\n",
       "             ('Justine', 'Shults'): [' Ph.D.',\n",
       "              'Professor of Biostatistics',\n",
       "              'jshults@mail.med.upenn.edu'],\n",
       "             ('Alisa', 'Jane', 'Stephens'): [' Ph.D.',\n",
       "              'Assistant Professor of Biostatistics',\n",
       "              'alisaste@mail.med.upenn.edu'],\n",
       "             ('Andrea', 'Beth', 'Troxel'): [' ScD',\n",
       "              'Professor of Biostatistics',\n",
       "              'atroxel@mail.med.upenn.edu'],\n",
       "             ('Rui', 'Xiao'): [' PhD',\n",
       "              'Assistant Professor of Biostatistics',\n",
       "              'rxiao@mail.med.upenn.edu'],\n",
       "             ('Sharon', 'Xiangwen', 'Xie'): [' Ph.D.',\n",
       "              'Associate Professor of Biostatistics',\n",
       "              'sxie@mail.med.upenn.edu'],\n",
       "             ('Dawei', 'Xie'): [' PhD',\n",
       "              'Assistant Professor of Biostatistics',\n",
       "              'dxie@upenn.edu'],\n",
       "             ('Wei', '(Peter)', 'Yang'): [' Ph.D.',\n",
       "              'Assistant Professor of Biostatistics',\n",
       "              'weiyang@mail.med.upenn.edu']})"
      ]
     },
     "execution_count": 261,
     "metadata": {},
     "output_type": "execute_result"
    }
   ],
   "source": [
    "import csv \n",
    "import re\n",
    "from collections import defaultdict\n",
    "\n",
    "\n",
    "\n",
    "def get_dict():\n",
    "    with open('faculty.csv') as csvfile:\n",
    "        readCSV=csv.reader(csvfile)\n",
    "        LNlist=[]\n",
    "        LNdict=defaultdict(list)\n",
    "        for row in list(readCSV)[1:]: #convert to list to skip first row of labels\n",
    "            #print(row[0])\n",
    "            x = re.split(\" \", row[0])\n",
    "            x=tuple(x)\n",
    "            LNlist.append(x)\n",
    "        #print(LNlist)\n",
    "            LNlist=list(set(LNlist)) #remove duplicates\n",
    "            \n",
    "            \n",
    "            for l in LNlist:\n",
    "                \n",
    "                if l==x:\n",
    "                  \n",
    "                    LNdict[l]+=row[1:]\n",
    "   \n",
    "        return(LNdict)\n",
    "\n",
    "        \n",
    "get_dict()"
   ]
  },
  {
   "cell_type": "code",
   "execution_count": null,
   "metadata": {},
   "outputs": [],
   "source": []
  }
 ],
 "metadata": {
  "kernelspec": {
   "display_name": "Python 3",
   "language": "python",
   "name": "python3"
  },
  "language_info": {
   "codemirror_mode": {
    "name": "ipython",
    "version": 3
   },
   "file_extension": ".py",
   "mimetype": "text/x-python",
   "name": "python",
   "nbconvert_exporter": "python",
   "pygments_lexer": "ipython3",
   "version": "3.7.4"
  }
 },
 "nbformat": 4,
 "nbformat_minor": 1
}
